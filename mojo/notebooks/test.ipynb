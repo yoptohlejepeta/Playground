{
 "cells": [
  {
   "cell_type": "markdown",
   "metadata": {},
   "source": [
    "## Functions and variables"
   ]
  },
  {
   "cell_type": "code",
   "execution_count": 18,
   "metadata": {},
   "outputs": [
    {
     "name": "stdout",
     "output_type": "stream",
     "text": [
      "Integer x:  2\n",
      "String x:  11\n"
     ]
    }
   ],
   "source": [
    "fn main_int():\n",
    "    var x = 1\n",
    "    x += 1\n",
    "    print(\"Integer x: \", x)\n",
    "\n",
    "main_int()\n",
    "\n",
    "fn main_str():\n",
    "    var x: String = 1\n",
    "    x += 1\n",
    "    print(\"String x: \", x)\n",
    "\n",
    "main_str()"
   ]
  },
  {
   "cell_type": "code",
   "execution_count": 21,
   "metadata": {},
   "outputs": [
    {
     "name": "stdout",
     "output_type": "stream",
     "text": [
      "3\n"
     ]
    }
   ],
   "source": [
    "fn add(x: Int, y: Int) -> Int:\n",
    "    return x + y\n",
    "\n",
    "z = add(1, 2)\n",
    "print(z)"
   ]
  },
  {
   "cell_type": "code",
   "execution_count": 23,
   "metadata": {},
   "outputs": [
    {
     "name": "stdout",
     "output_type": "stream",
     "text": [
      "2\n",
      "3\n",
      "5\n"
     ]
    }
   ],
   "source": [
    "# borrowed & inout\n",
    "\n",
    "fn add_inout(inout x: Int, inout y: Int) -> Int:\n",
    "    x += 1\n",
    "    y += 1\n",
    "    return x + y\n",
    "\n",
    "var a = 1\n",
    "var b = 2\n",
    "c = add_inout(a, b)\n",
    "print(a)\n",
    "print(b)\n",
    "print(c)"
   ]
  },
  {
   "cell_type": "code",
   "execution_count": 28,
   "metadata": {},
   "outputs": [
    {
     "name": "stdout",
     "output_type": "stream",
     "text": [
      "mojo\n",
      "mojo🔥\n"
     ]
    }
   ],
   "source": [
    "# owned\n",
    "\n",
    "fn set_fire(owned text: String) -> String:\n",
    "    text += \"🔥\"\n",
    "    return text\n",
    "\n",
    "fn mojo():\n",
    "    var a: String = \"mojo\"\n",
    "    var b = set_fire(a)\n",
    "    print(a)\n",
    "    print(b)\n",
    "\n",
    "mojo()"
   ]
  },
  {
   "cell_type": "code",
   "execution_count": 31,
   "metadata": {},
   "outputs": [
    {
     "name": "stdout",
     "output_type": "stream",
     "text": [
      "Point:  1 ,  2\n"
     ]
    }
   ],
   "source": [
    "# structs\n",
    "\n",
    "struct Point:\n",
    "    var x: Int\n",
    "    var y: Int\n",
    "\n",
    "    fn __init__(inout self, x: Int, y: Int):\n",
    "        self.x = x\n",
    "        self.y = y\n",
    "\n",
    "    fn dump(self):\n",
    "        print(\"Point: \", self.x, \", \", self.y)\n",
    "\n",
    "fn main_struct():\n",
    "    var p = Point(1, 2)\n",
    "    p.dump()\n",
    "\n",
    "main_struct()\n"
   ]
  },
  {
   "cell_type": "code",
   "execution_count": 33,
   "metadata": {},
   "outputs": [
    {
     "name": "stdout",
     "output_type": "stream",
     "text": [
      "[[ 0  1  2  3  4]\n",
      " [ 5  6  7  8  9]\n",
      " [10 11 12 13 14]]\n",
      "(3, 5)\n"
     ]
    }
   ],
   "source": [
    "# python\n",
    "\n",
    "from python import Python\n",
    "\n",
    "var np = Python.import_module(\"numpy\")\n",
    "\n",
    "ar = np.arange(15).reshape(3, 5)\n",
    "print(ar)\n",
    "print(ar.shape)"
   ]
  }
 ],
 "metadata": {
  "kernelspec": {
   "display_name": "Mojo",
   "language": "mojo",
   "name": "mojo-jupyter-kernel"
  },
  "language_info": {
   "codemirror_mode": {
    "name": "mojo"
   },
   "file_extension": ".mojo",
   "mimetype": "text/x-mojo",
   "name": "mojo"
  }
 },
 "nbformat": 4,
 "nbformat_minor": 2
}
