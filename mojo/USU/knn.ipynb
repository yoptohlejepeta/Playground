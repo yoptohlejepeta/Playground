{
 "cells": [
  {
   "cell_type": "code",
   "execution_count": 10,
   "metadata": {},
   "outputs": [],
   "source": [
    "import numpy as np\n",
    "import math"
   ]
  },
  {
   "cell_type": "code",
   "execution_count": 11,
   "metadata": {},
   "outputs": [
    {
     "name": "stdout",
     "output_type": "stream",
     "text": [
      "[0.41103316 0.03603316 0.73469388 0.90082908 0.65082908]\n",
      "[4 2]\n",
      "[8 4]\n",
      "[0 8]\n",
      "0\n",
      "0\n",
      "0\n",
      "[0, 0, 0]\n"
     ]
    }
   ],
   "source": [
    "vals = np.array([[8, 4], [4, 2], [3, 9], [8, 8], [0, 8]])\n",
    "labels = np.array([0, 1, 0, 0, 0, 1])\n",
    "\n",
    "\n",
    "def scaling(vals):\n",
    "    min = np.min(vals, axis=0)\n",
    "    max = np.max(vals, axis=0)\n",
    "    x_sc = (vals - min) / (max - min)\n",
    "    return x_sc\n",
    "\n",
    "\n",
    "xsc = scaling(vals)\n",
    "x = np.array([3, 3])\n",
    "x_sc = (x - np.min(vals, axis=0)) / (np.max(vals, axis=0) - np.min(vals, axis=0))\n",
    "\n",
    "\n",
    "def knn(X, y, x, k=3):\n",
    "    rho = np.sum((x - X) ** 2, axis=1)\n",
    "    print(rho)\n",
    "    result = []\n",
    "    body = []\n",
    "    for i in range(k):\n",
    "        nejmen = np.argmin(rho)\n",
    "        result.append(y[nejmen])\n",
    "        print(vals[nejmen])\n",
    "        rho[nejmen] = np.infty\n",
    "    return result\n",
    "\n",
    "\n",
    "knn(xsc, labels, x_sc, 3)\n",
    "\n",
    "rho = np.sum((x - xsc) ** 2, axis=1)\n",
    "result = []\n",
    "body = []\n",
    "for i in range(3):\n",
    "    nejmen = np.argmin(rho)\n",
    "    result.append(labels[nejmen])\n",
    "    print(labels[nejmen])\n",
    "    rho[nejmen] = np.infty\n",
    "print(result)"
   ]
  },
  {
   "cell_type": "code",
   "execution_count": 12,
   "metadata": {},
   "outputs": [
    {
     "name": "stdout",
     "output_type": "stream",
     "text": [
      "[[8 4]\n",
      " [4 2]\n",
      " [3 9]\n",
      " [8 8]\n",
      " [0 8]]\n"
     ]
    }
   ],
   "source": [
    "# vzdalenost bodu\n",
    "# math.dist(np.array(np.random.choice(5,2)), np.array(np.random.choice(5,2)))\n",
    "\n",
    "vals = np.array([[8, 4], [4, 2], [3, 9], [8, 8], [0, 8]])\n",
    "labels = np.array([0, 1, 0, 0, 0, 1])\n",
    "\n",
    "print(vals)"
   ]
  },
  {
   "cell_type": "code",
   "execution_count": 13,
   "metadata": {},
   "outputs": [
    {
     "name": "stdout",
     "output_type": "stream",
     "text": [
      "[[1.         0.28571429]\n",
      " [0.5        0.        ]\n",
      " [0.375      1.        ]\n",
      " [1.         0.85714286]\n",
      " [0.         0.85714286]]\n",
      "<built-in function min>\n"
     ]
    }
   ],
   "source": [
    "# škálování\n",
    "\n",
    "\n",
    "def scaling(vals):\n",
    "    min = np.min(vals, axis=0)\n",
    "    max = np.max(vals, axis=0)\n",
    "    x_sc = (vals - min) / (max - min)\n",
    "    return x_sc\n",
    "\n",
    "\n",
    "xsc = scaling(vals)\n",
    "print(xsc)\n",
    "print(min)"
   ]
  },
  {
   "cell_type": "code",
   "execution_count": 14,
   "metadata": {},
   "outputs": [
    {
     "name": "stdout",
     "output_type": "stream",
     "text": [
      "[0.41103316 0.03603316 0.73469388 0.90082908 0.65082908]\n",
      "[4 2]\n",
      "[8 4]\n",
      "[0 8]\n"
     ]
    },
    {
     "data": {
      "text/plain": [
       "[1, 0, 0]"
      ]
     },
     "execution_count": 14,
     "metadata": {},
     "output_type": "execute_result"
    }
   ],
   "source": [
    "# knn\n",
    "# X - matice\n",
    "# y - labely\n",
    "# x - testovaci bod\n",
    "x = np.array([3, 3])\n",
    "x_sc = (x - np.min(vals, axis=0)) / (np.max(vals, axis=0) - np.min(vals, axis=0))\n",
    "\n",
    "\n",
    "def knn(X, y, x, k=3):\n",
    "    rho = np.sum((x - X) ** 2, axis=1)\n",
    "    print(rho)\n",
    "    result = []\n",
    "    body = []\n",
    "    for i in range(k):\n",
    "        nejmen = np.argmin(rho)\n",
    "        result.append(y[nejmen])\n",
    "        print(vals[nejmen])\n",
    "        rho[nejmen] = np.infty\n",
    "    return result\n",
    "\n",
    "\n",
    "knn(xsc, labels, x_sc, 3)"
   ]
  },
  {
   "cell_type": "code",
   "execution_count": 15,
   "metadata": {},
   "outputs": [
    {
     "name": "stdout",
     "output_type": "stream",
     "text": [
      "0\n",
      "0\n",
      "0\n",
      "[0, 0, 0]\n"
     ]
    }
   ],
   "source": [
    "rho = np.sum((x - xsc) ** 2, axis=1)\n",
    "result = []\n",
    "body = []\n",
    "for i in range(3):\n",
    "    nejmen = np.argmin(rho)\n",
    "    result.append(labels[nejmen])\n",
    "    print(labels[nejmen])\n",
    "    rho[nejmen] = np.infty\n",
    "print(result)"
   ]
  }
 ],
 "metadata": {
  "kernelspec": {
   "display_name": "Python 3",
   "language": "python",
   "name": "python3"
  },
  "language_info": {
   "codemirror_mode": {
    "name": "ipython",
    "version": 3
   },
   "file_extension": ".py",
   "mimetype": "text/x-python",
   "name": "python",
   "nbconvert_exporter": "python",
   "pygments_lexer": "ipython3",
   "version": "3.10.12"
  },
  "orig_nbformat": 4,
  "vscode": {
   "interpreter": {
    "hash": "ac7d63c81fa3af9841e18714dc5bca4e996301e345a55d3b2736ded50a265047"
   }
  }
 },
 "nbformat": 4,
 "nbformat_minor": 2
}
